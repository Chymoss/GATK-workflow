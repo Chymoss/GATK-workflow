{
 "cells": [
  {
   "cell_type": "markdown",
   "id": "1a51e8d6-4456-4a36-98c3-92cdc176b0ec",
   "metadata": {},
   "source": [
    "# SBATCH环境\n",
    "一般申请c=8，因为并行两个pool，每个4线程"
   ]
  },
  {
   "cell_type": "code",
   "execution_count": null,
   "id": "0b846dcf-c1a8-47bb-9173-23992282a95b",
   "metadata": {},
   "outputs": [],
   "source": [
    "#!/bin/bash\n",
    "#SBATCH -J GTRC-Pool\n",
    "#SBATCH -p Acluster\n",
    "#SBATCH -n 1\n",
    "#SBATCH -c 8\n",
    "#SBATCH --output=%j.out\n",
    "#SBATCH --error=%j.err\n",
    "\n",
    "#set environment\n",
    "source /Share/samples/Acluster.sh\n",
    "source /Share/home/dengzg1993/bin/DZG_env.sh"
   ]
  },
  {
   "cell_type": "markdown",
   "id": "95d44e7d-e655-4903-a63a-178393cfa40f",
   "metadata": {},
   "source": [
    "# 全局变量"
   ]
  },
  {
   "cell_type": "code",
   "execution_count": null,
   "id": "13680511-e27d-47ef-ac9e-71888d9be423",
   "metadata": {},
   "outputs": [],
   "source": [
    "WORKDIR=$(pwd)\n",
    "TMPDIR=/Share/home/dengzg1993/tmp\n",
    "REF_FASTA=/Data/ChenhaodongLab/Data_deposited/Reference_genome/Physcomitrella/Gd_v6.1/Ppatens_870_V6.fasta\n",
    "SNP_SITES=/Share/home/dengzg1993/Analyses/DNASeq/Physcomitrella/1.WGS/05.Villersexel/2024.11.25_v6.1/4.annotate/Results/Vx.cohort.snp.final.vcf.gz"
   ]
  },
  {
   "cell_type": "markdown",
   "id": "747ccbbc-3840-4bca-807a-640da2bcb64b",
   "metadata": {},
   "source": [
    "# 读取样本"
   ]
  },
  {
   "cell_type": "code",
   "execution_count": null,
   "id": "40b4f439-019d-460c-b830-ec2d2946acd5",
   "metadata": {},
   "outputs": [],
   "source": [
    "dos2unix $WORKDIR/sample_pool.tsv\n",
    "\n",
    "read SAMPLE_MUT READ1_MUT READ2_MUT PLOIDY_MUT < <(awk 'NR==2 {print $1, $2, $3, $4}' $WORKDIR/sample_pool.tsv)\n",
    "read SAMPLE_WT READ1_WT READ2_WT PLOIDY_WT < <(awk 'NR==3 {print $1, $2, $3, $4}' $WORKDIR/sample_pool.tsv)\n",
    "\n",
    "# -----------------------------\n",
    "estimate_depth() {\n",
    "    local sample_name=$1\n",
    "    local read1=$2\n",
    "    local __resultvar=$3   # 传入变量名，用于返回值\n",
    "\n",
    "    NUM_READS_R1=$(zcat \"$read1\" | wc -l)\n",
    "    NUM_READS_R1=$((NUM_READS_R1/4))\n",
    "\n",
    "    GENOME_SIZE=$(grep -v \">\" \"$REF_FASTA\" | wc -c)\n",
    "    DEPTH=$(echo \"$NUM_READS_R1 * 150 * 2 / $GENOME_SIZE\" | bc)\n",
    "\t\n",
    "    echo \"Estimated depth is '$DEPTH' ($sample_name)\"\n",
    "\t\n",
    "    # 返回结果\n",
    "    eval $__resultvar=\"'$DEPTH'\"\n",
    "}\n",
    "\n",
    "estimate_depth \"$SAMPLE_MUT\" \"$READ1_MUT\" DEPTH_MUT\n",
    "estimate_depth \"$SAMPLE_WT\" \"$READ1_WT\" DEPTH_WT\n",
    "\n",
    "mkdir -p $WORKDIR/report $WORKDIR/1.mapping $WORKDIR/2.variants $WORKDIR/3.output\n",
    "log_step() {\n",
    "    echo \"[$(date '+%Y-%m-%d %H:%M:%S')] $1\"\n",
    "}\n",
    "log_step \"开始任务\"\n"
   ]
  },
  {
   "attachments": {
    "98545900-1a88-4d95-84d6-121680f8a362.jpg": {
     "image/jpeg": "[encoded data removed]"
    }
   },
   "cell_type": "markdown",
   "id": "f05008de-ae44-4e85-b912-31c4ed2bd362",
   "metadata": {},
   "source": [
    "## 例子：\n",
    "![Snipaste_2025-09-17_23-59-41.jpg](attachment:98545900-1a88-4d95-84d6-121680f8a362.jpg)"
   ]
  },
  {
   "cell_type": "markdown",
   "id": "b2c84c4f-8297-47aa-828c-37bcb921910a",
   "metadata": {},
   "source": [
    "# FastQC"
   ]
  },
  {
   "cell_type": "code",
   "execution_count": null,
   "id": "14ca94d6-c0d0-4e19-9378-961df4f82d58",
   "metadata": {},
   "outputs": [],
   "source": [
    "log_step \"执行 FastQC 检查\"\n",
    "fastqc -o $WORKDIR/report --noextract $READ1_MUT $READ2_MUT &> $WORKDIR/report/fastqc_m.log &\n",
    "fastqc -o $WORKDIR/report --noextract $READ1_WT $READ2_WT &> $WORKDIR/report/fastqc_w.log &\n",
    "wait"
   ]
  },
  {
   "cell_type": "markdown",
   "id": "d35bb765-33d5-4e49-8439-25414b8b11d6",
   "metadata": {},
   "source": [
    "# 映射和去重"
   ]
  },
  {
   "cell_type": "code",
   "execution_count": null,
   "id": "bd70cd83-3eb5-4a5b-8ca5-98bc5c5cc2b5",
   "metadata": {},
   "outputs": [],
   "source": [
    "log_step \"开始 Reads 映射和去重\"\n",
    "process_sample() {\n",
    "    local sample_name=$1\n",
    "    local read1=$2\n",
    "    local read2=$3\n",
    "\n",
    "    bwa mem -t 4 -M \\\n",
    "        -R \"@RG\\tID:$sample_name\\tLB:$sample_name\\tPL:ILLUMINA\\tPM:HISEQ\\tSM:$sample_name\" \\\n",
    "        $REF_FASTA $read1 $read2 \\\n",
    "        | samtools view -Sb - \\\n",
    "        | samtools sort -o $WORKDIR/1.mapping/$sample_name.sorted.bam\n",
    "\n",
    "    picard MarkDuplicates \\\n",
    "        -I $WORKDIR/1.mapping/$sample_name.sorted.bam \\\n",
    "        -M $WORKDIR/1.mapping/sorted_dedup_metrics-${sample_name}.txt \\\n",
    "        --TMP_DIR $TMPDIR \\\n",
    "        -O $WORKDIR/1.mapping/$sample_name.sorted_dedup_reads.bam\n",
    "\n",
    "    samtools index $WORKDIR/1.mapping/$sample_name.sorted_dedup_reads.bam\n",
    "\n",
    "    FILE_SIZE=$(du -k $WORKDIR/1.mapping/$sample_name.sorted_dedup_reads.bam | awk '{print $1}')\n",
    "    if [ $FILE_SIZE -ge 1000000 ]; then\n",
    "        rm $WORKDIR/1.mapping/$sample_name.sorted.bam\n",
    "    fi\n",
    "}\n",
    "\n",
    "process_sample $SAMPLE_MUT $READ1_MUT $READ2_MUT &\n",
    "process_sample $SAMPLE_WT $READ1_WT $READ2_WT &\n",
    "wait"
   ]
  },
  {
   "cell_type": "markdown",
   "id": "69ff9ed3-235c-401b-b040-b9e5d9109738",
   "metadata": {},
   "source": [
    "# 变异检测"
   ]
  },
  {
   "cell_type": "code",
   "execution_count": null,
   "id": "52c7d793-2f02-458a-bca8-4668b9f6b152",
   "metadata": {},
   "outputs": [],
   "source": [
    "log_step \"执行变异检测\"\n",
    "variant_calling() {\n",
    "    local sample_name=$1\n",
    "    local ploidy=$2\n",
    "\n",
    "    gatk HaplotypeCaller -R $REF_FASTA \\\n",
    "        -I $WORKDIR/1.mapping/$sample_name.sorted_dedup_reads.bam \\\n",
    "        --intervals $SNP_SITES --sample-ploidy $ploidy -ERC GVCF \\\n",
    "        -O $WORKDIR/2.variants/$sample_name.g.vcf.gz\n",
    "}\n",
    "\n",
    "variant_calling $SAMPLE_MUT $PLOIDY_MUT &\n",
    "variant_calling $SAMPLE_WT $PLOIDY_WT &\n",
    "wait"
   ]
  },
  {
   "cell_type": "markdown",
   "id": "ea1a1eca-660d-40ec-a9d4-7db761aeadd1",
   "metadata": {},
   "source": [
    "# 合并变异文件"
   ]
  },
  {
   "cell_type": "code",
   "execution_count": null,
   "id": "984838a4-f4ee-45d0-aab5-2c70e4649e33",
   "metadata": {},
   "outputs": [],
   "source": [
    "log_step \"合并变异文件\"\n",
    "gatk CombineGVCFs -R $REF_FASTA \\\n",
    "    --variant $WORKDIR/2.variants/$SAMPLE_MUT.g.vcf.gz \\\n",
    "    --variant $WORKDIR/2.variants/$SAMPLE_WT.g.vcf.gz \\\n",
    "    -O $WORKDIR/2.variants/Combine.g.vcf.gz\n",
    "\n",
    "gatk GenotypeGVCFs -R $REF_FASTA \\\n",
    "    -V $WORKDIR/2.variants/Combine.g.vcf.gz \\\n",
    "    -O $WORKDIR/3.output/Combine.vcf.gz\n",
    "\n",
    "mv $WORKDIR/2.variants/Combine.g.vcf.gz.tbi $WORKDIR/3.output/"
   ]
  },
  {
   "cell_type": "markdown",
   "id": "6dc6f22a-4e18-4231-b016-0b7cc2a5065c",
   "metadata": {},
   "source": [
    "# 提取等位基因频率"
   ]
  },
  {
   "cell_type": "code",
   "execution_count": null,
   "id": "df6f79f5-44c7-4a45-9ec4-4e1a9ecb9952",
   "metadata": {},
   "outputs": [],
   "source": [
    "log_step \"提取等位基因频率\"\n",
    "gatk VariantFiltration -R $REF_FASTA \\\n",
    "    -V $WORKDIR/3.output/Combine.vcf.gz \\\n",
    "    -O $WORKDIR/3.output/Combine.filter.vcf.gz \\\n",
    "    -filter-name \"hard_filter\" \\\n",
    "    -filter \"QD < 2.0 || SOR > 3.0 || FS > 60.0 || MQ < 40.0 || MQRankSum < -12.5 || ReadPosRankSum < -8.0\"\n",
    "\n",
    "gatk SelectVariants --exclude-filtered --select-type-to-include SNP \\\n",
    "    --restrict-alleles-to BIALLELIC \\\n",
    "    -select \"vc.getGenotype('$SAMPLE_MUT').getDP() > 0.3 * $DEPTH_MUT\" \\\n",
    "    -select \"vc.getGenotype('$SAMPLE_MUT').getDP() < 3 * $DEPTH_MUT\" \\\n",
    "    -select \"vc.getGenotype('$SAMPLE_WT').getDP() > 0.3 * $DEPTH_WT\" \\\n",
    "    -select \"vc.getGenotype('$SAMPLE_WT').getDP() < 3 * $DEPTH_WT\" \\\n",
    "    -V $WORKDIR/3.output/Combine.filter.vcf.gz \\\n",
    "    -O $WORKDIR/3.output/Combine.snp.cleaned.vcf.gz\n",
    "\n",
    "gatk VariantsToTable -V $WORKDIR/3.output/Combine.snp.cleaned.vcf.gz \\\n",
    "    -F CHROM -F POS -GF AD \\\n",
    "    -O $WORKDIR/3.output/Combine.results_var_AD.table\n",
    "\n",
    "log_step \"任务结束\""
   ]
  }
 ],
 "metadata": {
  "kernelspec": {
    "display_name": "Bash",
    "language": "bash",
    "name": "bash"
  },
  "language_info": {
    "file_extension": ".sh",
    "mimetype": "text/x-sh",
    "name": "bash",
    "nbconvert_exporter": "script",
    "pygments_lexer": "bash"
  }
},
 "nbformat": 4,
 "nbformat_minor": 5
}
