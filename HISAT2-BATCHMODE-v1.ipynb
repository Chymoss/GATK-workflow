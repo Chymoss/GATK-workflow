{
 "cells": [
  {
   "cell_type": "markdown",
   "id": "83b37958-ba22-4985-87dd-9104388060a8",
   "metadata": {},
   "source": [
    "# SBATCH设置\n",
    "array根据样本数来"
   ]
  },
  {
   "cell_type": "code",
   "execution_count": null,
   "id": "a9a71f1f-fa13-46db-b781-e52373f0480b",
   "metadata": {},
   "outputs": [],
   "source": [
    "#!/bin/bash\n",
    "#SBATCH -J HISAT_BATCH\n",
    "#SBATCH -p Acluster\n",
    "#SBATCH -n 1\n",
    "#SBATCH -c 4\n",
    "#SBATCH --array=1-12\n",
    "#SBATCH --output=%j.out\n",
    "#SBATCH --error=%j.err\n",
    "\n",
    "# set environment\n",
    "source /Share/samples/Acluster.sh\n",
    "source /Share/home/dengzg1993/bin/DZG_env.sh"
   ]
  },
  {
   "cell_type": "markdown",
   "id": "965ed5b7-ab18-4da9-8545-09deda70ce5c",
   "metadata": {},
   "source": [
    "# 路径和Ref"
   ]
  },
  {
   "cell_type": "code",
   "execution_count": null,
   "id": "3039476b-5c3f-4d8b-97d1-dc205a1e5e28",
   "metadata": {},
   "outputs": [],
   "source": [
    "# Parameters\n",
    "WORKDIR=$(pwd)\n",
    "Reference=/Data/ChenhaodongLab/Data_deposited/Reference_genome/Arabidopsis/TAIR10/assembly/Ath\n",
    "GTFfile=/Data/ChenhaodongLab/Data_deposited/Reference_genome/Arabidopsis/TAIR10/assembly/Arabidopsis_thaliana.TAIR10.31.gtf"
   ]
  },
  {
   "cell_type": "markdown",
   "id": "458c920b-ff88-47ad-9ed0-8a6cf664cb2b",
   "metadata": {},
   "source": [
    "# 封装为函数"
   ]
  },
  {
   "cell_type": "code",
   "execution_count": null,
   "id": "0e90fd8b-a753-4159-b482-2669811a775c",
   "metadata": {},
   "outputs": [],
   "source": [
    "process_sample() {\n",
    "    local sample=$1\n",
    "    local read1=$2\n",
    "    local read2=$3\n",
    "\n",
    "    local sample_dir=$WORKDIR/$sample\n",
    "    mkdir -p $sample_dir/report $sample_dir/1.mapping $sample_dir/2.output\n",
    "\n",
    "    echo \"[$(date '+%Y-%m-%d %H:%M:%S')] Start processing $sample\"\n",
    "\n",
    "    # FastQC\n",
    "    fastqc --noextract -o $sample_dir/report $read1 $read2 > $sample_dir/report/${sample}_fastqc.log 2>&1\n",
    "\n",
    "    # Mapping & sorting\n",
    "    hisat2 -p 4 -t -x $Reference -1 $read1 -2 $read2 \\\n",
    "        | samtools view -Sb - \\\n",
    "        | samtools sort -o $sample_dir/1.mapping/${sample}.sorted.bam\n",
    "\n",
    "    local bam=$sample_dir/1.mapping/${sample}.sorted.bam\n",
    "\n",
    "    # HTSeq-count\n",
    "    htseq-count --format=bam --order=pos --stranded=no -t exon -i gene_id $bam $GTFfile \\\n",
    "        > $sample_dir/2.output/${sample}_htseqreport-gene_id_no.txt\n",
    "\n",
    " if [ $? -eq 0 ]; then\n",
    "            # 删除大文件以节省空间\n",
    "            local file_size=$(du -k $bam | awk '{print $1}')\n",
    "            if [ \"$file_size\" -ge 1000000 ]; then\n",
    "                echo \"[$(date '+%Y-%m-%d %H:%M:%S')] File size >= 1GB, deleting $bam\"\n",
    "                rm $bam\n",
    "            fi\n",
    "    else\n",
    "        echo \"[$(date '+%Y-%m-%d %H:%M:%S')] HTSeq-count failed for $sample\"\n",
    "    fi\n",
    "\n",
    "    echo \"[$(date '+%Y-%m-%d %H:%M:%S')] Finished $sample\"\n",
    "}"
   ]
  },
  {
   "cell_type": "markdown",
   "id": "793cc5c8-5539-4d16-b64e-53da508d3f85",
   "metadata": {},
   "source": [
    "# 读入样本信息"
   ]
  },
  {
   "cell_type": "code",
   "execution_count": null,
   "id": "91b00c15-d438-48c3-bc0f-c81f4fa45786",
   "metadata": {},
   "outputs": [],
   "source": [
    "dos2unix sample_list.tsv\n",
    "TASK_ID=${SLURM_ARRAY_TASK_ID:-1}\n",
    "LINE=$(sed -n \"${TASK_ID}p\" sample_list.tsv)\n",
    "SAMPLE=$(echo $LINE | awk '{print $1}')\n",
    "READ1=$(echo $LINE | awk '{print $2}')\n",
    "READ2=$(echo $LINE | awk '{print $3}')\n",
    "\n",
    "process_sample $SAMPLE $READ1 $READ2"
   ]
  }
 ],
 "metadata": {
  "kernelspec": {
   "display_name": "Python 3 (ipykernel)",
   "language": "python",
   "name": "python3"
  },
  "language_info": {
        "name": "bash",
        "mimetype": "text/x-sh",
        "codemirror_mode": {
            "name": "bash"
        },
        "pygments_lexer": "bash",
        "nbconvert_exporter": "script",
        "file_extension": ".sh"
    }
 },
 "nbformat": 4,
 "nbformat_minor": 5
}
